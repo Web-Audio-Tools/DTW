{
  "nbformat": 4,
  "nbformat_minor": 0,
  "metadata": {
    "kernelspec": {
      "display_name": "Python 3",
      "language": "python",
      "name": "python3"
    },
    "language_info": {
      "codemirror_mode": {
        "name": "ipython",
        "version": 3
      },
      "file_extension": ".py",
      "mimetype": "text/x-python",
      "name": "python",
      "nbconvert_exporter": "python",
      "pygments_lexer": "ipython3",
      "version": "3.7.4"
    },
    "colab": {
      "name": "2014-05-01-dtw.ipynb",
      "provenance": [],
      "include_colab_link": true
    }
  },
  "cells": [
    {
      "cell_type": "markdown",
      "metadata": {
        "id": "view-in-github",
        "colab_type": "text"
      },
      "source": [
        "<a href=\"https://colab.research.google.com/gist/bgoonz/dd28d1aad2e21c49ebc7cc02767712a2/2014-05-01-dtw.ipynb\" target=\"_parent\"><img src=\"https://colab.research.google.com/assets/colab-badge.svg\" alt=\"Open In Colab\"/></a>"
      ]
    },
    {
      "cell_type": "markdown",
      "metadata": {
        "id": "3yjttzIrtDxh"
      },
      "source": [
        "# Programatically understanding dynamic time warping (DTW)\n",
        "> Signal processing for unequal time series!\n",
        "\n",
        "- toc: true \n",
        "- badges: true\n",
        "- comments: true\n",
        "- author: Nipun Batra\n",
        "- categories: [ML]"
      ]
    },
    {
      "cell_type": "code",
      "metadata": {
        "id": "qRjCC9sRtOru"
      },
      "source": [
        ""
      ],
      "execution_count": null,
      "outputs": []
    },
    {
      "cell_type": "markdown",
      "metadata": {
        "id": "ks0QTZf2tDxn"
      },
      "source": [
        "So you just recorded yourself saying a word and try to match it against another instance. The signals look similar, but have varying lengths and different activations for different features. So, how do you decide the similarity. Dynamic time warping (DTW) is probably something which can come to your rescue. Quoting wikipedia:\n",
        "\n",
        "\n",
        "\"In time series analysis, dynamic time warping (DTW) is an algorithm for measuring similarity between two temporal sequences which may vary in time or speed. For instance, similarities in walking patterns could be detected using DTW, even if one person was walking faster than the other, or if there were accelerations and decelerations during the course of an observation.\""
      ]
    },
    {
      "cell_type": "markdown",
      "metadata": {
        "id": "GPNxjUeKtDxn"
      },
      "source": [
        "In this post I will try and put forward a naive implementation of DTW and also explain the different pieces of the problem."
      ]
    },
    {
      "cell_type": "markdown",
      "metadata": {
        "id": "dSgLwf0UtDxo"
      },
      "source": [
        "#### Customary imports"
      ]
    },
    {
      "cell_type": "code",
      "metadata": {
        "id": "za9MPcLHtDxo"
      },
      "source": [
        "import pandas as pd\n",
        "import numpy as np\n",
        "import matplotlib.pyplot as plt\n",
        "import seaborn as sns\n",
        "%matplotlib inline"
      ],
      "execution_count": 1,
      "outputs": []
    },
    {
      "cell_type": "markdown",
      "metadata": {
        "id": "BD0inhc3tDxp"
      },
      "source": [
        "#### Creating two signals"
      ]
    },
    {
      "cell_type": "code",
      "metadata": {
        "id": "1_pUO2BJtDxq"
      },
      "source": [
        "x = np.array([1, 1, 2, 3, 2, 0])\n",
        "y = np.array([0, 1, 1, 2, 3, 2, 1])"
      ],
      "execution_count": 2,
      "outputs": []
    },
    {
      "cell_type": "markdown",
      "metadata": {
        "id": "r5DX2EaKtDxr"
      },
      "source": [
        "#### Plotting the two signals"
      ]
    },
    {
      "cell_type": "code",
      "metadata": {
        "colab": {
          "base_uri": "https://localhost:8080/",
          "height": 264
        },
        "id": "dOo8-EaLtDxr",
        "outputId": "1b68151e-bc87-45ee-dc44-7f71c35d2181"
      },
      "source": [
        "plt.plot(x,'r', label='x')\n",
        "plt.plot(y, 'g', label='y')\n",
        "plt.legend();"
      ],
      "execution_count": 3,
      "outputs": [
        {
          "output_type": "display_data",
          "data": {
            "image/png": "[encoded data removed]",
            "text/plain": [
              "<Figure size 432x288 with 1 Axes>"
            ]
          },
          "metadata": {
            "needs_background": "light"
          }
        }
      ]
    },
    {
      "cell_type": "markdown",
      "metadata": {
        "id": "vbTxMq7qtDxs"
      },
      "source": [
        "So, it appears that both the signals show similar behaviour: they both have a peak and around the peak they slop downwards. They vary in their speed and total duration. So, all set for DTW."
      ]
    },
    {
      "cell_type": "markdown",
      "metadata": {
        "id": "PD4rI1J3tDxt"
      },
      "source": [
        "#### Aim"
      ]
    },
    {
      "cell_type": "markdown",
      "metadata": {
        "id": "baFK_zSltDxt"
      },
      "source": [
        "Our aim is to find a mapping between all points of x and y. For instance, x(3) may be mapped to y(4) and so on."
      ]
    },
    {
      "cell_type": "markdown",
      "metadata": {
        "id": "g0ZZYQ6OtDxt"
      },
      "source": [
        "#### Making a 2d matrix to compute distances between all pairs of x and y"
      ]
    },
    {
      "cell_type": "markdown",
      "metadata": {
        "id": "XieFE4oHtDxu"
      },
      "source": [
        "In this initial step, we will find out the distance between all pair of points in the two signals. Lesser distances implies that these points may be candidates to be matched together."
      ]
    },
    {
      "cell_type": "code",
      "metadata": {
        "id": "_EE3aeKdtDxu"
      },
      "source": [
        "distances = np.zeros((len(y), len(x)))"
      ],
      "execution_count": 4,
      "outputs": []
    },
    {
      "cell_type": "code",
      "metadata": {
        "colab": {
          "base_uri": "https://localhost:8080/"
        },
        "id": "Tj7gamUQtDxu",
        "outputId": "76644d93-a71a-40d2-f726-3424fa148066"
      },
      "source": [
        "distances"
      ],
      "execution_count": 5,
      "outputs": [
        {
          "output_type": "execute_result",
          "data": {
            "text/plain": [
              "array([[0., 0., 0., 0., 0., 0.],\n",
              "       [0., 0., 0., 0., 0., 0.],\n",
              "       [0., 0., 0., 0., 0., 0.],\n",
              "       [0., 0., 0., 0., 0., 0.],\n",
              "       [0., 0., 0., 0., 0., 0.],\n",
              "       [0., 0., 0., 0., 0., 0.],\n",
              "       [0., 0., 0., 0., 0., 0.]])"
            ]
          },
          "metadata": {},
          "execution_count": 5
        }
      ]
    },
    {
      "cell_type": "markdown",
      "metadata": {
        "id": "uyVKFuCNtDxv"
      },
      "source": [
        "We will use euclidean distance between the pairs of points."
      ]
    },
    {
      "cell_type": "code",
      "metadata": {
        "id": "xXK0GbP1tDxv"
      },
      "source": [
        "for i in range(len(y)):\n",
        "    for j in range(len(x)):\n",
        "        distances[i,j] = (x[j]-y[i])**2  "
      ],
      "execution_count": 6,
      "outputs": []
    },
    {
      "cell_type": "code",
      "metadata": {
        "colab": {
          "base_uri": "https://localhost:8080/"
        },
        "id": "h93-El-JtDxv",
        "outputId": "91027e9d-02af-4486-d68a-ecae423408ec"
      },
      "source": [
        "distances"
      ],
      "execution_count": 7,
      "outputs": [
        {
          "output_type": "execute_result",
          "data": {
            "text/plain": [
              "array([[1., 1., 4., 9., 4., 0.],\n",
              "       [0., 0., 1., 4., 1., 1.],\n",
              "       [0., 0., 1., 4., 1., 1.],\n",
              "       [1., 1., 0., 1., 0., 4.],\n",
              "       [4., 4., 1., 0., 1., 9.],\n",
              "       [1., 1., 0., 1., 0., 4.],\n",
              "       [0., 0., 1., 4., 1., 1.]])"
            ]
          },
          "metadata": {},
          "execution_count": 7
        }
      ]
    },
    {
      "cell_type": "markdown",
      "metadata": {
        "id": "fBQne2iWtDxv"
      },
      "source": [
        "#### Visualizing the distance matrix"
      ]
    },
    {
      "cell_type": "markdown",
      "metadata": {
        "id": "hH3fn8kKtDxw"
      },
      "source": [
        "We will write a small function to visualize the distance matrix we just created."
      ]
    },
    {
      "cell_type": "code",
      "metadata": {
        "id": "TytPvrvLtDxw"
      },
      "source": [
        "def distance_cost_plot(distances):\n",
        "    im = plt.imshow(distances, interpolation='nearest', cmap='Reds') \n",
        "    plt.gca().invert_yaxis()\n",
        "    plt.xlabel(\"X\")\n",
        "    plt.ylabel(\"Y\")\n",
        "    plt.grid()\n",
        "    plt.colorbar();\n"
      ],
      "execution_count": 8,
      "outputs": []
    },
    {
      "cell_type": "code",
      "metadata": {
        "colab": {
          "base_uri": "https://localhost:8080/",
          "height": 0
        },
        "id": "wWtLHi7jtDxw",
        "outputId": "4ba2276d-9905-4476-bace-18a5a3e900b3"
      },
      "source": [
        "distance_cost_plot(distances)"
      ],
      "execution_count": 9,
      "outputs": [
        {
          "output_type": "display_data",
          "data": {
            "image/png": "[encoded data removed]",
            "text/plain": [
              "<Figure size 432x288 with 2 Axes>"
            ]
          },
          "metadata": {
            "needs_background": "light"
          }
        }
      ]
    },
    {
      "cell_type": "markdown",
      "metadata": {
        "id": "WRRvYPr-tDxx"
      },
      "source": [
        "From the plot above, it seems like the diagonal entries have low distances, which means that the distance between similar index points in x and y is low."
      ]
    },
    {
      "cell_type": "markdown",
      "metadata": {
        "id": "GQ-63BmJtDxx"
      },
      "source": [
        "#### Warping path"
      ]
    },
    {
      "cell_type": "markdown",
      "metadata": {
        "id": "akV8Nf5RtDxx"
      },
      "source": [
        "In order to create a mapping between the two signals, we need to create a path in the above plot. The path should start at (0,0) and want to reach (M,N) where (M, N) are the lengths of the two signals. Our aim is to find the path of minimum distance. To do this, we thus build a matrix similar to the distances matrix. This matrix would contain the minimum distances to reach a specific point when starting from (0,0). We impose some restrictions on the paths which we would explore:\n",
        "1. The path must start at (0,0) and end at (M,N)\n",
        "2. We cannot go back in time, so the path only flows forwards, which means that from a point (i, j), we can only right (i+1, j)  or upwards (i, j+1) or diagonal (i+1, j+1).\n",
        "\n",
        "These restrictions would prevent the combinatorial explosion and convert the problem to a Dynamic Programming problem  which can be solved in O(MN) time."
      ]
    },
    {
      "cell_type": "code",
      "metadata": {
        "id": "HTJMILX-tDxx"
      },
      "source": [
        "accumulated_cost = np.zeros((len(y), len(x)))"
      ],
      "execution_count": 10,
      "outputs": []
    },
    {
      "cell_type": "markdown",
      "metadata": {
        "id": "KD7g3sxatDxy"
      },
      "source": [
        "#### Let us now build up the accumulated cost"
      ]
    },
    {
      "cell_type": "markdown",
      "metadata": {
        "id": "1NF4-9GDtDxy"
      },
      "source": [
        "* Since we start from (0,0), the accumulated cost at this point is distance(0,0)"
      ]
    },
    {
      "cell_type": "code",
      "metadata": {
        "id": "zn-DRd8StDxy"
      },
      "source": [
        "accumulated_cost[0,0] = distances[0,0]"
      ],
      "execution_count": 11,
      "outputs": []
    },
    {
      "cell_type": "markdown",
      "metadata": {
        "id": "3kxRP3SktDxy"
      },
      "source": [
        "Lets see how accumulated cost looks at this point."
      ]
    },
    {
      "cell_type": "code",
      "metadata": {
        "colab": {
          "base_uri": "https://localhost:8080/",
          "height": 0
        },
        "id": "Xjdjh97PtDxy",
        "outputId": "f62fef17-4a00-4e46-8ade-b69eddc3120e"
      },
      "source": [
        "distance_cost_plot(accumulated_cost)"
      ],
      "execution_count": 12,
      "outputs": [
        {
          "output_type": "display_data",
          "data": {
            "image/png": "[encoded data removed]",
            "text/plain": [
              "<Figure size 432x288 with 2 Axes>"
            ]
          },
          "metadata": {
            "needs_background": "light"
          }
        }
      ]
    },
    {
      "cell_type": "markdown",
      "metadata": {
        "id": "zlEnU38LtDxy"
      },
      "source": [
        "* If we were to move along the first row, i.e. from (0,0) in the right direction only, one step at a time"
      ]
    },
    {
      "cell_type": "code",
      "metadata": {
        "id": "H0EOR9POtDxz"
      },
      "source": [
        "for i in range(1, len(x)):\n",
        "    accumulated_cost[0,i] = distances[0,i] + accumulated_cost[0, i-1]    "
      ],
      "execution_count": 13,
      "outputs": []
    },
    {
      "cell_type": "code",
      "metadata": {
        "colab": {
          "base_uri": "https://localhost:8080/",
          "height": 0
        },
        "id": "BeB1yQMktDxz",
        "outputId": "b40404b0-2d15-418e-97e7-a3d7089d5a49"
      },
      "source": [
        "distance_cost_plot(accumulated_cost)"
      ],
      "execution_count": 14,
      "outputs": [
        {
          "output_type": "display_data",
          "data": {
            "image/png": "[encoded data removed]",
            "text/plain": [
              "<Figure size 432x288 with 2 Axes>"
            ]
          },
          "metadata": {
            "needs_background": "light"
          }
        }
      ]
    },
    {
      "cell_type": "markdown",
      "metadata": {
        "id": "6nbbw0cUtDxz"
      },
      "source": [
        "* If we were to move along the first column, i.e. from (0,0) in the upwards direction only, one step at a time"
      ]
    },
    {
      "cell_type": "code",
      "metadata": {
        "id": "_Z-eAr5ctDxz"
      },
      "source": [
        "for i in range(1, len(y)):\n",
        "    accumulated_cost[i,0] = distances[i, 0] + accumulated_cost[i-1, 0]    "
      ],
      "execution_count": 15,
      "outputs": []
    },
    {
      "cell_type": "code",
      "metadata": {
        "colab": {
          "base_uri": "https://localhost:8080/",
          "height": 0
        },
        "id": "OiMREij9tDxz",
        "outputId": "e509113a-b60c-4919-b7fe-fe5eb899bf03"
      },
      "source": [
        "distance_cost_plot(accumulated_cost)"
      ],
      "execution_count": 16,
      "outputs": [
        {
          "output_type": "display_data",
          "data": {
            "image/png": "[encoded data removed]",
            "text/plain": [
              "<Figure size 432x288 with 2 Axes>"
            ]
          },
          "metadata": {
            "needs_background": "light"
          }
        }
      ]
    },
    {
      "cell_type": "markdown",
      "metadata": {
        "id": "xU4BcIgGtDx0"
      },
      "source": [
        "For all other elements, we have"
      ]
    },
    {
      "cell_type": "markdown",
      "metadata": {
        "id": "bLawlqrDtDx0"
      },
      "source": [
        "![](https://nipunbatra.github.io/blog/images/equation-dtw.png)"
      ]
    },
    {
      "cell_type": "code",
      "metadata": {
        "id": "T0Y54UK1tDx0"
      },
      "source": [
        "for i in range(1, len(y)):\n",
        "    for j in range(1, len(x)):\n",
        "        accumulated_cost[i, j] = min(accumulated_cost[i-1, j-1], accumulated_cost[i-1, j], accumulated_cost[i, j-1]) + distances[i, j]"
      ],
      "execution_count": 17,
      "outputs": []
    },
    {
      "cell_type": "code",
      "metadata": {
        "colab": {
          "base_uri": "https://localhost:8080/",
          "height": 0
        },
        "id": "zENxrkvqtDx0",
        "outputId": "2efe42bb-c1cd-461f-ca94-91cedee4e85a"
      },
      "source": [
        "distance_cost_plot(accumulated_cost)"
      ],
      "execution_count": 18,
      "outputs": [
        {
          "output_type": "display_data",
          "data": {
            "image/png": "[encoded data removed]",
            "text/plain": [
              "<Figure size 432x288 with 2 Axes>"
            ]
          },
          "metadata": {
            "needs_background": "light"
          }
        }
      ]
    },
    {
      "cell_type": "markdown",
      "metadata": {
        "id": "OLwM3PGktDx0"
      },
      "source": [
        "So, now we have obtained the matrix containing cost of all paths starting from (0,0). We now need to find the path minimizing the distance which we do by backtracking."
      ]
    },
    {
      "cell_type": "markdown",
      "metadata": {
        "id": "J78FlEEatDx0"
      },
      "source": [
        "#### Backtracking and finding the optimal warp path"
      ]
    },
    {
      "cell_type": "markdown",
      "metadata": {
        "id": "jrbALiKGtDx0"
      },
      "source": [
        "Backtracking procedure is fairly simple and involves trying to move back from the last point (M, N) and finding which place we would reached there from (by minimizing the cost) and do this in a repetitive fashion."
      ]
    },
    {
      "cell_type": "code",
      "metadata": {
        "id": "4gr8EYD-tDx1"
      },
      "source": [
        "path = [[len(x)-1, len(y)-1]]\n",
        "i = len(y)-1\n",
        "j = len(x)-1\n",
        "while i>0 and j>0:\n",
        "    if i==0:\n",
        "        j = j - 1\n",
        "    elif j==0:\n",
        "        i = i - 1\n",
        "    else:\n",
        "        if accumulated_cost[i-1, j] == min(accumulated_cost[i-1, j-1], accumulated_cost[i-1, j], accumulated_cost[i, j-1]):\n",
        "            i = i - 1\n",
        "        elif accumulated_cost[i, j-1] == min(accumulated_cost[i-1, j-1], accumulated_cost[i-1, j], accumulated_cost[i, j-1]):\n",
        "            j = j-1\n",
        "        else:\n",
        "            i = i - 1\n",
        "            j= j- 1\n",
        "    path.append([j, i])\n",
        "path.append([0,0])"
      ],
      "execution_count": 19,
      "outputs": []
    },
    {
      "cell_type": "code",
      "metadata": {
        "colab": {
          "base_uri": "https://localhost:8080/"
        },
        "id": "E3LlhljFtDx1",
        "outputId": "fe7a3d52-df7d-45e7-ccee-c67efde8275c"
      },
      "source": [
        "path"
      ],
      "execution_count": 20,
      "outputs": [
        {
          "output_type": "execute_result",
          "data": {
            "text/plain": [
              "[[5, 6], [4, 5], [3, 4], [2, 3], [1, 2], [1, 1], [0, 1], [0, 0]]"
            ]
          },
          "metadata": {},
          "execution_count": 20
        }
      ]
    },
    {
      "cell_type": "code",
      "metadata": {
        "id": "7E9KOFkgtDx1"
      },
      "source": [
        "path_x = [point[0] for point in path]\n",
        "path_y = [point[1] for point in path]"
      ],
      "execution_count": 21,
      "outputs": []
    },
    {
      "cell_type": "code",
      "metadata": {
        "colab": {
          "base_uri": "https://localhost:8080/",
          "height": 278
        },
        "id": "y9XTSfKKtDx2",
        "outputId": "d4094f6f-592c-4371-eb7e-24ba600691e5"
      },
      "source": [
        "distance_cost_plot(accumulated_cost)\n",
        "plt.plot(path_x, path_y);"
      ],
      "execution_count": 22,
      "outputs": [
        {
          "output_type": "display_data",
          "data": {
            "image/png": "[encoded data removed]",
            "text/plain": [
              "<Figure size 432x288 with 2 Axes>"
            ]
          },
          "metadata": {
            "needs_background": "light"
          }
        }
      ]
    },
    {
      "cell_type": "markdown",
      "metadata": {
        "id": "NJBv6iXBtDx3"
      },
      "source": [
        "The above plot shows the optimum warping path which minimizes the sum of distance (DTW distance) along the path. Let us wrap up the function by also incorporating the DTW distance between the two signals as well."
      ]
    },
    {
      "cell_type": "code",
      "metadata": {
        "id": "kpgyS7xdtDx3"
      },
      "source": [
        "def path_cost(x, y, accumulated_cost, distances):\n",
        "    path = [[len(x)-1, len(y)-1]]\n",
        "    cost = 0\n",
        "    i = len(y)-1\n",
        "    j = len(x)-1\n",
        "    while i>0 and j>0:\n",
        "        if i==0:\n",
        "            j = j - 1\n",
        "        elif j==0:\n",
        "            i = i - 1\n",
        "        else:\n",
        "            if accumulated_cost[i-1, j] == min(accumulated_cost[i-1, j-1], accumulated_cost[i-1, j], accumulated_cost[i, j-1]):\n",
        "                i = i - 1\n",
        "            elif accumulated_cost[i, j-1] == min(accumulated_cost[i-1, j-1], accumulated_cost[i-1, j], accumulated_cost[i, j-1]):\n",
        "                j = j-1\n",
        "            else:\n",
        "                i = i - 1\n",
        "                j= j- 1\n",
        "        path.append([j, i])\n",
        "    path.append([0,0])\n",
        "    for [y, x] in path:\n",
        "        cost = cost +distances[x, y]\n",
        "    return path, cost    "
      ],
      "execution_count": 23,
      "outputs": []
    },
    {
      "cell_type": "code",
      "metadata": {
        "colab": {
          "base_uri": "https://localhost:8080/",
          "height": 128
        },
        "id": "QaesWIEytDx3",
        "outputId": "d20230dd-f11a-48e9-9dd2-2bec8f586c1b"
      },
      "source": [
        "path, cost = path_cost(x, y, accumulated_cost, distances)\n",
        "print path\n",
        "print cost"
      ],
      "execution_count": 24,
      "outputs": [
        {
          "output_type": "error",
          "ename": "SyntaxError",
          "evalue": "ignored",
          "traceback": [
            "\u001b[0;36m  File \u001b[0;32m\"<ipython-input-24-c6315fa5e420>\"\u001b[0;36m, line \u001b[0;32m2\u001b[0m\n\u001b[0;31m    print path\u001b[0m\n\u001b[0m             ^\u001b[0m\n\u001b[0;31mSyntaxError\u001b[0m\u001b[0;31m:\u001b[0m Missing parentheses in call to 'print'. Did you mean print(path)?\n"
          ]
        }
      ]
    },
    {
      "cell_type": "markdown",
      "metadata": {
        "id": "-_SfBUCwtDx3"
      },
      "source": [
        "Let us compare our naive implementation with that of [mlpy](http://mlpy.sourceforge.net/) which also provides a DTW implementation."
      ]
    },
    {
      "cell_type": "code",
      "metadata": {
        "id": "Mh3Srn1-tDx3"
      },
      "source": [
        "import mlpy"
      ],
      "execution_count": null,
      "outputs": []
    },
    {
      "cell_type": "code",
      "metadata": {
        "id": "EWoCx_4AtDx3"
      },
      "source": [
        "dist, cost, path = mlpy.dtw_std(x, y, dist_only=False)"
      ],
      "execution_count": null,
      "outputs": []
    },
    {
      "cell_type": "code",
      "metadata": {
        "id": "lJGJQYu3tDx4"
      },
      "source": [
        "import matplotlib.cm as cm\n",
        "fig = plt.figure(1)\n",
        "ax = fig.add_subplot(111)\n",
        "plot1 = plt.imshow(cost.T, origin='lower', cmap=cm.gray, interpolation='nearest')\n",
        "plot2 = plt.plot(path[0], path[1], 'w')\n",
        "xlim = ax.set_xlim((-0.5, cost.shape[0]-0.5))\n",
        "ylim = ax.set_ylim((-0.5, cost.shape[1]-0.5))"
      ],
      "execution_count": null,
      "outputs": []
    },
    {
      "cell_type": "markdown",
      "metadata": {
        "id": "NfmkXRHJtDx4"
      },
      "source": [
        "The path looks almost identical to the one we got. The slight difference is due to the fact that the path chosen by our implementation and the one chosen by DTW have the same distance and thus we woulc choose either."
      ]
    },
    {
      "cell_type": "code",
      "metadata": {
        "id": "YnZ7wJXhtDx4"
      },
      "source": [
        "dist"
      ],
      "execution_count": null,
      "outputs": []
    },
    {
      "cell_type": "markdown",
      "metadata": {
        "id": "s9ZkNdjgtDx4"
      },
      "source": [
        "Not bad! Our implementation gets the same distance between x and y. "
      ]
    },
    {
      "cell_type": "markdown",
      "metadata": {
        "id": "qxVA0xQ9tDx4"
      },
      "source": [
        "Let us look at another interesting way to visualize the warp. We will place the two signals on the same axis and "
      ]
    },
    {
      "cell_type": "code",
      "metadata": {
        "id": "CijMh48wtDx4"
      },
      "source": [
        "plt.plot(x, 'bo-' ,label='x')\n",
        "plt.plot(y, 'g^-', label = 'y')\n",
        "plt.legend();\n",
        "paths = path_cost(x, y, accumulated_cost, distances)[0]\n",
        "for [map_x, map_y] in paths:\n",
        "    print map_x, x[map_x], \":\", map_y, y[map_y]\n",
        "    \n",
        "    plt.plot([map_x, map_y], [x[map_x], y[map_y]], 'r')"
      ],
      "execution_count": null,
      "outputs": []
    },
    {
      "cell_type": "markdown",
      "metadata": {
        "id": "rfAMAnoJtDx5"
      },
      "source": [
        "The above plot shows the mapping between the two signal. The red lines connect the matched points which are given by the DTW algorithm Looks neat isn't it? Now, let us try this for some known signal. This example is inspired from the example used in R's dtw implementation. We will see the DTW path between a sine and cosine on the same angles. "
      ]
    },
    {
      "cell_type": "code",
      "metadata": {
        "id": "JcGiwnnDtDx5"
      },
      "source": [
        "idx = np.linspace(0, 6.28, 100)"
      ],
      "execution_count": null,
      "outputs": []
    },
    {
      "cell_type": "code",
      "metadata": {
        "id": "A9ZJBqvptDx5"
      },
      "source": [
        "x = np.sin(idx)"
      ],
      "execution_count": null,
      "outputs": []
    },
    {
      "cell_type": "code",
      "metadata": {
        "id": "9wzi6FvbtDx5"
      },
      "source": [
        "y = np.cos(idx)"
      ],
      "execution_count": null,
      "outputs": []
    },
    {
      "cell_type": "code",
      "metadata": {
        "id": "ddnWgrGotDx5"
      },
      "source": [
        "distances = np.zeros((len(y), len(x)))"
      ],
      "execution_count": null,
      "outputs": []
    },
    {
      "cell_type": "code",
      "metadata": {
        "id": "qEkGwQoltDx5"
      },
      "source": [
        "for i in range(len(y)):\n",
        "    for j in range(len(x)):\n",
        "        distances[i,j] = (x[j]-y[i])**2  "
      ],
      "execution_count": null,
      "outputs": []
    },
    {
      "cell_type": "code",
      "metadata": {
        "id": "wunTN_uOtDx5"
      },
      "source": [
        "distance_cost_plot(distances)"
      ],
      "execution_count": null,
      "outputs": []
    },
    {
      "cell_type": "code",
      "metadata": {
        "id": "2UqRI9DKtDx5"
      },
      "source": [
        "accumulated_cost = np.zeros((len(y), len(x)))\n",
        "accumulated_cost[0,0] = distances[0,0]\n",
        "for i in range(1, len(y)):\n",
        "    accumulated_cost[i,0] = distances[i, 0] + accumulated_cost[i-1, 0]\n",
        "for i in range(1, len(x)):\n",
        "    accumulated_cost[0,i] = distances[0,i] + accumulated_cost[0, i-1] \n",
        "for i in range(1, len(y)):\n",
        "    for j in range(1, len(x)):\n",
        "        accumulated_cost[i, j] = min(accumulated_cost[i-1, j-1], accumulated_cost[i-1, j], accumulated_cost[i, j-1]) + distances[i, j]"
      ],
      "execution_count": null,
      "outputs": []
    },
    {
      "cell_type": "code",
      "metadata": {
        "id": "n9DDvxUXtDx6"
      },
      "source": [
        "plt.plot(x, 'bo-' ,label='x')\n",
        "plt.plot(y, 'g^-', label = 'y')\n",
        "plt.legend();\n",
        "paths = path_cost(x, y, accumulated_cost, distances)[0]\n",
        "for [map_x, map_y] in paths:\n",
        "    #print map_x, x[map_x], \":\", map_y, y[map_y]\n",
        "    \n",
        "    plt.plot([map_x, map_y], [x[map_x], y[map_y]], 'r')"
      ],
      "execution_count": null,
      "outputs": []
    },
    {
      "cell_type": "markdown",
      "metadata": {
        "id": "SCka6NGutDx6"
      },
      "source": [
        "Ok, this does look nice. I am impressed!"
      ]
    },
    {
      "cell_type": "markdown",
      "metadata": {
        "id": "KLOxWO57tDx6"
      },
      "source": [
        "#### Conclusions"
      ]
    },
    {
      "cell_type": "markdown",
      "metadata": {
        "id": "04JE2Q7VtDx6"
      },
      "source": [
        "We worked out a naive DTW implementation pretty much from scratch. It seems to do reasonably well on artificial data."
      ]
    },
    {
      "cell_type": "markdown",
      "metadata": {
        "id": "xfwV4uI_tDx6"
      },
      "source": [
        "#### References"
      ]
    },
    {
      "cell_type": "markdown",
      "metadata": {
        "id": "hjWZPQzKtDx6"
      },
      "source": [
        "1. [Wikipedia page on dtw](http://en.wikipedia.org/wiki/Dynamic_time_warping)\n",
        "2. [R's dtw package](http://dtw.r-forge.r-project.org/)\n",
        "3. [mlpy page on dtw](http://mlpy.sourceforge.net/docs/3.4/dtw.html)\n",
        "4. [DTW review paper](http://www2.hawaii.edu/~senin/assets/papers/DTW-review2008draft.pdf)"
      ]
    },
    {
      "cell_type": "markdown",
      "metadata": {
        "id": "3KkZaTsntDx7"
      },
      "source": [
        "Feel free to comment!"
      ]
    }
  ]
}